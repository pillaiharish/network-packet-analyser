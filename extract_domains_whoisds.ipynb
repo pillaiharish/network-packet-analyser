{
 "cells": [
  {
   "cell_type": "code",
   "execution_count": 1,
   "id": "039bdcfc-8194-4908-a64b-ab7b35be29ca",
   "metadata": {},
   "outputs": [
    {
     "name": "stdout",
     "output_type": "stream",
     "text": [
      "README.md                go.mod                   \u001b[31mnetwork-packet-analyser\u001b[m\u001b[m\n",
      "Untitled.ipynb           go.sum                   postman_api_response.png\n",
      "blocklist.txt            main.go                  \u001b[34msample\u001b[m\u001b[m\n",
      "domains.txt              \u001b[34mmyenv\u001b[m\u001b[m                    \u001b[34mtest\u001b[m\u001b[m\n",
      "Requirement already satisfied: pip in ./myenv/lib/python3.12/site-packages (24.1.1)\n",
      "Requirement already satisfied: numpy in ./myenv/lib/python3.12/site-packages (2.0.0)\n",
      "Requirement already satisfied: pandas in ./myenv/lib/python3.12/site-packages (2.2.2)\n",
      "Requirement already satisfied: openpyxl in ./myenv/lib/python3.12/site-packages (3.1.4)\n",
      "Requirement already satisfied: python-dateutil>=2.8.2 in ./myenv/lib/python3.12/site-packages (from pandas) (2.9.0.post0)\n",
      "Requirement already satisfied: pytz>=2020.1 in ./myenv/lib/python3.12/site-packages (from pandas) (2024.1)\n",
      "Requirement already satisfied: tzdata>=2022.7 in ./myenv/lib/python3.12/site-packages (from pandas) (2024.1)\n",
      "Requirement already satisfied: et-xmlfile in ./myenv/lib/python3.12/site-packages (from openpyxl) (1.1.0)\n",
      "Requirement already satisfied: six>=1.5 in ./myenv/lib/python3.12/site-packages (from python-dateutil>=2.8.2->pandas) (1.16.0)\n"
     ]
    }
   ],
   "source": [
    "!ls\n",
    "! python3.12 -m pip install --upgrade pip\n",
    "! pip install numpy pandas openpyxl"
   ]
  },
  {
   "cell_type": "code",
   "execution_count": 5,
   "id": "af0564e2-2c1d-4b4c-93c8-63e75342188f",
   "metadata": {},
   "outputs": [
    {
     "name": "stdout",
     "output_type": "stream",
     "text": [
      "Processing file: ./sample/ca-cleaned.xlsx\n",
      "Processing file: ./sample/sp-cleaned.xlsx\n",
      "Processing file: ./sample/uk-cleaned.xlsx\n",
      "Processing file: ./sample/us-cleaned.xlsx\n",
      "Processing file: ./sample/au-cleaned.xlsx\n",
      "Processing file: ./sample/uae-cleaned.xlsx\n",
      "Processing file: ./sample/br-cleaned.xlsx\n",
      "Processing file: ./sample/fr-cleaned.xlsx\n",
      "Processing file: ./sample/ge-cleaned.xlsx\n",
      "Processing file: ./sample/in-cleaned.xlsx\n"
     ]
    }
   ],
   "source": [
    "# # # # # # # # # # # # # # # # # # \n",
    "#\n",
    "# Found sample data at\n",
    "# https://www.whoisds.com/sample.zip\n",
    "#\n",
    "# # # # # # # # # # # # # # # # # # \n",
    "import pandas as pd\n",
    "import os\n",
    "\n",
    "def extract_domains(folder):\n",
    "    list_domain = []\n",
    "    files = os.listdir(folder)\n",
    "    # print(files)\n",
    "    for file in files:\n",
    "       [list_domain.append(z) for z in open_single_xlsx(folder+file)]\n",
    "        # list_domain.append(open_single_xlsx(folder+file))\n",
    "    return list_domain\n",
    "        \n",
    "def open_single_xlsx(file):\n",
    "    print(\"Processing file: \"+file)\n",
    "    df = pd.read_excel(file)\n",
    "    return df['domain_name'].to_list()\n",
    "\n",
    "l = extract_domains(\"./sample/\")\n",
    "with open(\"./domains.txt\",\"w\") as f:\n",
    "    [f.write(x+\"\\n\") for x in l]\n"
   ]
  },
  {
   "cell_type": "code",
   "execution_count": null,
   "id": "ba69df31-05d9-44dd-80e1-8204e816b9f0",
   "metadata": {},
   "outputs": [],
   "source": []
  }
 ],
 "metadata": {
  "kernelspec": {
   "display_name": "Python 3 (ipykernel)",
   "language": "python",
   "name": "python3"
  },
  "language_info": {
   "codemirror_mode": {
    "name": "ipython",
    "version": 3
   },
   "file_extension": ".py",
   "mimetype": "text/x-python",
   "name": "python",
   "nbconvert_exporter": "python",
   "pygments_lexer": "ipython3",
   "version": "3.12.4"
  }
 },
 "nbformat": 4,
 "nbformat_minor": 5
}
